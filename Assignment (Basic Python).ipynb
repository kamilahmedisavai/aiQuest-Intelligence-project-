{
 "cells": [
  {
   "cell_type": "markdown",
   "id": "9818ffc8",
   "metadata": {},
   "source": [
    "# Python Practice Problems"
   ]
  },
  {
   "cell_type": "markdown",
   "id": "92c96f2f",
   "metadata": {},
   "source": [
    "### 1. Find the Largest of Two Numbers\n",
    "**Task:** Given two numbers, find the larger one.  \n",
    "**Demo Input:**  5 and 6 <br>\n",
    "**Output:** 6\n"
   ]
  },
  {
   "cell_type": "code",
   "execution_count": 13,
   "id": "15c848cf",
   "metadata": {},
   "outputs": [
    {
     "name": "stdout",
     "output_type": "stream",
     "text": [
      "The Large number is : 6\n"
     ]
    }
   ],
   "source": [
    "a=5 \n",
    "b=6\n",
    "c=(max(a,b))\n",
    "print(\"The Large number is :\", c)\n"
   ]
  },
  {
   "cell_type": "markdown",
   "id": "c8c1c683",
   "metadata": {},
   "source": [
    "### 2. Print Numbers from 1 to N\n",
    "**Task**: Given a number `n`, print all numbers from 1 to `n`. <br> \n",
    "**Demo Input**: `5`  <br>\n",
    "**Demo Output**:  1 2 3 4 5\n"
   ]
  },
  {
   "cell_type": "code",
   "execution_count": 21,
   "id": "4f9f4529",
   "metadata": {},
   "outputs": [
    {
     "name": "stdin",
     "output_type": "stream",
     "text": [
      "Enter a number:  10\n"
     ]
    },
    {
     "name": "stdout",
     "output_type": "stream",
     "text": [
      "1 2 3 4 5 6 7 8 9 10 "
     ]
    }
   ],
   "source": [
    "n = int(input(\"Enter a number: \"))\n",
    "for i in range(1, n + 1):\n",
    "    print(i, end=\" \")\n"
   ]
  },
  {
   "cell_type": "markdown",
   "id": "899df468",
   "metadata": {},
   "source": [
    "### 3. Check if a Number is Positive or Negative\n",
    "**Task**: Determine if the input number is positive, negative, or zero.  \n",
    "**Demo Input**: `-3`  \n",
    "**Demo Output**: `The number is Negative`"
   ]
  },
  {
   "cell_type": "code",
   "execution_count": 33,
   "id": "56ae285e",
   "metadata": {},
   "outputs": [
    {
     "name": "stdin",
     "output_type": "stream",
     "text": [
      "Enter a number:  -3\n"
     ]
    },
    {
     "name": "stdout",
     "output_type": "stream",
     "text": [
      "The number is Negative\n"
     ]
    }
   ],
   "source": [
    "b = int(input(\"Enter a number: \"))\n",
    "\n",
    "if b > 0:\n",
    "    print(\"The number is Positive\")\n",
    "elif b < 0:\n",
    "    print(\"The number is Negative\")\n",
    "else:\n",
    "    print(\"The number is Zero\")\n"
   ]
  },
  {
   "cell_type": "markdown",
   "id": "9d865d12",
   "metadata": {},
   "source": [
    "### 4. Calculate the Sum of Digits\n",
    "**Task**: Given a number, find the sum of its digits.  \n",
    "**Demo Input**: `123`  \n",
    "**Demo Output**: `6`  \n",
    "(Explanation: `1+2+3=6`)"
   ]
  },
  {
   "cell_type": "code",
   "execution_count": 47,
   "id": "c28b2c6c",
   "metadata": {},
   "outputs": [
    {
     "name": "stdin",
     "output_type": "stream",
     "text": [
      "Enter a number:  532\n"
     ]
    },
    {
     "name": "stdout",
     "output_type": "stream",
     "text": [
      "Sum of digits: 10\n"
     ]
    }
   ],
   "source": [
    "d = input(\"Enter a number: \")\n",
    "if d.isdigit():\n",
    "    sum_digits= sum(int(digit) for digit in d)\n",
    "    print(\"Sum of digits:\", sum_digits)"
   ]
  },
  {
   "cell_type": "markdown",
   "id": "a970046f",
   "metadata": {},
   "source": [
    "### 5. Find Factorial of a Number\n",
    "**Task**: Calculate the factorial of a given number.  \n",
    "**Demo Input**: `4`  \n",
    "**Demo Output**: `24`  \n",
    "(Explanation: `4! = 4*3*2*1 = 24`)"
   ]
  },
  {
   "cell_type": "code",
   "execution_count": 91,
   "id": "fd5966d2",
   "metadata": {},
   "outputs": [
    {
     "name": "stdin",
     "output_type": "stream",
     "text": [
      "Enter a positive number:  4\n"
     ]
    },
    {
     "name": "stdout",
     "output_type": "stream",
     "text": [
      "The factorial is: 24\n"
     ]
    }
   ],
   "source": [
    "n = input(\"Enter a positive number: \")\n",
    "\n",
    "if n.isdigit():\n",
    "    n = int(n)\n",
    "    f = 1\n",
    "    for i in range(1, n + 1):\n",
    "        f *= i\n",
    "    print(\"The factorial is:\", f)\n",
    "else:\n",
    "    print(\"You enter negative number. Please enter a positive number\")\n"
   ]
  },
  {
   "cell_type": "markdown",
   "id": "c8798099",
   "metadata": {},
   "source": [
    "### 6. Count Occurrences of a Digit\n",
    "**Task**: Count how many times a specific digit appears max in a number.  \n",
    "**Demo Input**:  1233321 <br>\n",
    "**Demo Output**: `3`  <br>\n",
    "(Explanation: `3` appears 3 times in `1233321`)"
   ]
  },
  {
   "cell_type": "code",
   "execution_count": 95,
   "id": "5772f0e6",
   "metadata": {},
   "outputs": [
    {
     "name": "stdin",
     "output_type": "stream",
     "text": [
      "Enter a number:  7655589\n"
     ]
    },
    {
     "name": "stdout",
     "output_type": "stream",
     "text": [
      "Digit '5' appears the most, 3 times.\n"
     ]
    }
   ],
   "source": [
    "number = input(\"Enter a number: \")\n",
    "\n",
    "if number.isdigit():\n",
    "    # Count occurrences of each digit\n",
    "    counts = {digit: number.count(digit) for digit in set(number)}\n",
    "    \n",
    "    # Find the digit with the maximum occurrences\n",
    "    max_digit = max(counts, key=counts.get)\n",
    "    max_count = counts[max_digit]\n",
    "    \n",
    "    print(f\"Digit '{max_digit}' appears the most, {max_count} times.\")\n",
    "else:\n",
    "    print(\"Please enter a valid number.\")\n",
    "\n"
   ]
  },
  {
   "cell_type": "markdown",
   "id": "b7f985bc",
   "metadata": {},
   "source": [
    "### 7. Find the GCD of Two Numbers\n",
    "**Task**: Find the greatest common divisor (GCD) of two numbers.  \n",
    "**Demo Input**: 8 and 12 <br>\n",
    "**Demo Output**: `4`"
   ]
  },
  {
   "cell_type": "code",
   "execution_count": 97,
   "id": "a467887d",
   "metadata": {},
   "outputs": [
    {
     "name": "stdin",
     "output_type": "stream",
     "text": [
      "Enter the first number:  8\n",
      "Enter the second number:  12\n"
     ]
    },
    {
     "name": "stdout",
     "output_type": "stream",
     "text": [
      "GCD of 8 and 12 is: 4\n"
     ]
    }
   ],
   "source": [
    "def gcd(a, b):\n",
    "    while b:\n",
    "        a, b = b, a % b\n",
    "    return a\n",
    "\n",
    "num1 = input(\"Enter the first number: \")\n",
    "num2 = input(\"Enter the second number: \")\n",
    "\n",
    "if num1.isdigit() and num2.isdigit():\n",
    "    a, b = int(num1), int(num2)\n",
    "    print(f\"GCD of {a} and {b} is:\", gcd(a, b))\n",
    "else:\n",
    "    print(\"Please enter valid positive integers.\")\n"
   ]
  },
  {
   "cell_type": "markdown",
   "id": "14c6a2fd",
   "metadata": {},
   "source": [
    "### 8. Reverse a String\n",
    "**Task**: Reverse the given string.  \n",
    "**Demo Input**: `\"aiquest\"`  \n",
    "**Demo Output**: `\"tseuqia\"`"
   ]
  },
  {
   "cell_type": "code",
   "execution_count": 99,
   "id": "bd22e158",
   "metadata": {},
   "outputs": [
    {
     "name": "stdin",
     "output_type": "stream",
     "text": [
      "Enter a string:  aiquest\n"
     ]
    },
    {
     "name": "stdout",
     "output_type": "stream",
     "text": [
      "Reversed string: tseuqia\n"
     ]
    }
   ],
   "source": [
    "string = input(\"Enter a string: \")\n",
    "reversed_string = string[::-1]\n",
    "print(\"Reversed string:\", reversed_string)\n"
   ]
  },
  {
   "cell_type": "markdown",
   "id": "88317dfd",
   "metadata": {},
   "source": [
    "### 9. Check Armstrong Number\n",
    "**Task**: Check if a number is an Armstrong number (the sum of its digits raised to the power of the number of digits equals the number).  \n",
    "**Demo Input**: `153`  \n",
    "**Demo Output**: `153 is an Armstrong Number`  \n",
    "(Explanation: \\(1^3 + 5^3 + 3^3 = 153\\))"
   ]
  },
  {
   "cell_type": "code",
   "execution_count": 107,
   "id": "2602ff94",
   "metadata": {},
   "outputs": [
    {
     "name": "stdin",
     "output_type": "stream",
     "text": [
      "Enter a number:  153\n"
     ]
    },
    {
     "name": "stdout",
     "output_type": "stream",
     "text": [
      "153 is an Armstrong Number\n"
     ]
    }
   ],
   "source": [
    "num = input(\"Enter a number: \")\n",
    "\n",
    "if num.isdigit():\n",
    "    n = int(num)\n",
    "    num_digits = len(num)\n",
    "    \n",
    "    total = 0\n",
    "    for digit in num:\n",
    "        total += int(digit) ** num_digits\n",
    "    \n",
    "    if total == n:\n",
    "        print(f\"{n} is an Armstrong Number\")\n",
    "    else:\n",
    "        print(f\"{n} is NOT an Armstrong Number\")\n",
    "else:\n",
    "    print(\"Please enter a valid positive integer.\")\n"
   ]
  },
  {
   "cell_type": "markdown",
   "id": "0905a3cc",
   "metadata": {},
   "source": [
    "### 10. Generate a Pattern\n",
    "**Task**: Print a pyramid pattern with `n` rows.  \n",
    "**Demo input:** 4 <br>\n",
    "**Output:** You will see the pyramid pattern with 4 rows"
   ]
  },
  {
   "cell_type": "code",
   "execution_count": 111,
   "id": "83d8b483",
   "metadata": {},
   "outputs": [
    {
     "name": "stdin",
     "output_type": "stream",
     "text": [
      "Enter the number of rows:  5\n"
     ]
    },
    {
     "name": "stdout",
     "output_type": "stream",
     "text": [
      "    *\n",
      "   ***\n",
      "  *****\n",
      " *******\n",
      "*********\n"
     ]
    }
   ],
   "source": [
    "n = input(\"Enter the number of rows: \")\n",
    "\n",
    "if n.isdigit():\n",
    "    n = int(n)\n",
    "    for i in range(1, n + 1):\n",
    "        # Print spaces\n",
    "        print(\" \" * (n - i), end=\"\")\n",
    "        # Print stars\n",
    "        print(\"*\" * (2 * i - 1))\n",
    "else:\n",
    "    print(\"Please enter a valid positive integer.\")\n"
   ]
  },
  {
   "cell_type": "markdown",
   "id": "ec723917",
   "metadata": {},
   "source": [
    "# Good Luck!"
   ]
  }
 ],
 "metadata": {
  "kernelspec": {
   "display_name": "Python 3 (ipykernel)",
   "language": "python",
   "name": "python3"
  },
  "language_info": {
   "codemirror_mode": {
    "name": "ipython",
    "version": 3
   },
   "file_extension": ".py",
   "mimetype": "text/x-python",
   "name": "python",
   "nbconvert_exporter": "python",
   "pygments_lexer": "ipython3",
   "version": "3.12.7"
  }
 },
 "nbformat": 4,
 "nbformat_minor": 5
}
